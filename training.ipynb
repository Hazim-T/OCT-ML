{
 "cells": [
  {
   "cell_type": "code",
   "id": "initial_id",
   "metadata": {
    "collapsed": true,
    "ExecuteTime": {
     "end_time": "2024-10-22T13:33:15.682790Z",
     "start_time": "2024-10-22T13:33:03.786059Z"
    }
   },
   "source": [
    "from utils import *\n",
    "import pandas\n",
    "import numpy as np\n",
    "import tensorflow as tf\n",
    "from tensorflow.keras import layers, models"
   ],
   "outputs": [],
   "execution_count": 1
  },
  {
   "metadata": {
    "ExecuteTime": {
     "end_time": "2024-10-22T13:33:15.739035Z",
     "start_time": "2024-10-22T13:33:15.726690Z"
    }
   },
   "cell_type": "code",
   "source": "print(\"Num GPUs Available: \", len(tf.config.list_physical_devices('GPU')))",
   "id": "2f20dbfbae1794e9",
   "outputs": [
    {
     "name": "stdout",
     "output_type": "stream",
     "text": [
      "Num GPUs Available:  0\n"
     ]
    }
   ],
   "execution_count": 2
  },
  {
   "metadata": {},
   "cell_type": "code",
   "outputs": [],
   "execution_count": null,
   "source": [
    "# optimization\n",
    "from tensorflow.keras import mixed_precision\n",
    "gpus = tf.config.list_physical_devices('GPU')\n",
    "tf.config.experimental.set_memory_growth(gpus[0], True)\n",
    "\n",
    "policy = tf.keras.mixed_precision.Policy('mixed_float16')\n",
    "mixed_precision.set_global_policy(policy)"
   ],
   "id": "cf0bfd6736817f31"
  },
  {
   "metadata": {
    "ExecuteTime": {
     "end_time": "2024-10-22T13:34:06.874251Z",
     "start_time": "2024-10-22T13:33:15.779650Z"
    }
   },
   "cell_type": "code",
   "source": [
    "df = pandas.read_excel(\"dictionary.xlsx\")\n",
    "df = np.array(df)[1:]\n",
    "print(df.shape)\n",
    "data_folder = \"E2E_dataset\"\n",
    "eyes_labelled = load_eye_tensors_with_labels(data_folder, df)\n",
    "\n",
    "eyes, labels = filter_and_normalize(eyes_labelled)"
   ],
   "id": "38d0e101b5a575af",
   "outputs": [
    {
     "name": "stdout",
     "output_type": "stream",
     "text": [
      "(6757, 3)\n",
      "Loaded ACEL01E.E2E\n",
      "Loaded ACEL02E.E2E\n",
      "Loaded ACEL03E.E2E\n",
      "Loaded ACEL04E.E2E\n",
      "Loaded ACEL05E.E2E\n",
      "Loaded ACEL11E.E2E\n",
      "Loaded ACEL13E.E2E\n",
      "Loaded ACEL14E.E2E\n",
      "Loaded ACEL15E.E2E\n",
      "Loaded ACEL19E.E2E\n",
      "Loaded ACEL45E.E2E\n",
      "Loaded ACEL46E.E2E\n",
      "Loaded ACEL47E.E2E\n",
      "Loaded ADAM01K.E2E\n",
      "Loaded ADAM02K.E2E\n",
      "Loaded ADAM03K.E2E\n",
      "Loaded ADAM04K.E2E\n",
      "Loaded ADAMI03P.E2E\n",
      "Loaded AGOTA01Z.E2E\n",
      "Loaded AGOTA02Z.E2E\n",
      "Loaded AGYAG10I.E2E\n",
      "Loaded AJTAY01M.E2E\n",
      "Loaded ALMAS01I.E2E\n",
      "Loaded ALMAS02I.E2E\n",
      "Loaded ALMAS03I.E2E\n",
      "Loaded ALMAS04I.E2E\n",
      "Loaded ALMAS05I.E2E\n",
      "Loaded ALMAS06I.E2E\n",
      "Loaded ALMAS07I.E2E\n",
      "Loaded ALMAS08I.E2E\n",
      "Loaded ALMAS09I.E2E\n",
      "Loaded ALMAS10I.E2E\n",
      "Loaded ALMAS11I.E2E\n",
      "Loaded ALMAS12I.E2E\n",
      "Loaded ALMAS13I.E2E\n",
      "Loaded ALMAS14I.E2E\n",
      "Loaded ALMAS15I.E2E\n",
      "File ALMAS15I.E2E issue index 0 is out of bounds for axis 0 with size 0\n",
      "Loaded ALMAS16I.E2E\n",
      "Loaded ALMAS17I.E2E\n",
      "File ALMAS17I.E2E issue index 0 is out of bounds for axis 0 with size 0\n",
      "Loaded ALMAS18I.E2E\n",
      "Loaded ALMAS19I.E2E\n",
      "Loaded ALMAS20I.E2E\n",
      "Loaded ALMAS21I.E2E\n",
      "Loaded ALMAS22I.E2E\n",
      "Loaded ALMAS23I.E2E\n",
      "File ALMAS23I.E2E issue index 0 is out of bounds for axis 0 with size 0\n",
      "Loaded ALMAS24I.E2E\n",
      "Loaded ALMAS25I.E2E\n",
      "File ALMAS25I.E2E issue index 0 is out of bounds for axis 0 with size 0\n",
      "Loaded ALMAS26I.E2E\n",
      "File ALMAS26I.E2E issue index 0 is out of bounds for axis 0 with size 0\n",
      "Loaded ALMAS27I.E2E\n",
      "Loaded ALMAS28I.E2E\n",
      "Loaded ALMAS29I.E2E\n",
      "Loaded AMBRU01A.E2E\n",
      "Loaded AMBRU02A.E2E\n",
      "Loaded AMBRU04A.E2E\n",
      "Loaded AMBRU06A.E2E\n",
      "Loaded AMBRU01L.E2E\n",
      "Loaded AMBRU04L.E2E\n",
      "Loaded AMBRU06L.E2E\n",
      "Loaded ANTAL01S.E2E\n",
      "Loaded ANTAL05S.E2E\n",
      "Loaded ANTON03I.E2E\n",
      "Loaded ANTON04I.E2E\n",
      "Loaded APATI01S.E2E\n",
      "Loaded APJOK01I.E2E\n",
      "Loaded ARADI01F.E2E\n",
      "Loaded ARADY01T.E2E\n",
      "Bad file count: 5\n"
     ]
    }
   ],
   "execution_count": 3
  },
  {
   "metadata": {
    "ExecuteTime": {
     "end_time": "2024-10-21T20:34:45.992531Z",
     "start_time": "2024-10-21T20:34:45.975583Z"
    }
   },
   "cell_type": "code",
   "source": [
    "unique = set()\n",
    "for eye in eyes:\n",
    "    if eye.shape not in unique:\n",
    "        unique.add(eye.shape)\n",
    "print(unique)\n",
    "eyes = np.expand_dims(eyes, axis=-1)\n",
    "print(eyes.shape)\n",
    "labels = np.expand_dims(labels, axis=-1)\n",
    "print(labels.shape)"
   ],
   "id": "b6bdb72f175bb6f",
   "outputs": [
    {
     "name": "stdout",
     "output_type": "stream",
     "text": [
      "{(25, 496, 512, 1)}\n",
      "(71, 25, 496, 512, 1, 1)\n",
      "(71, 1)\n"
     ]
    }
   ],
   "execution_count": 16
  },
  {
   "metadata": {
    "ExecuteTime": {
     "end_time": "2024-10-21T20:40:23.191069Z",
     "start_time": "2024-10-21T20:40:23.054854Z"
    }
   },
   "cell_type": "code",
   "source": [
    "input_img = tf.keras.Input(shape=(25, 496, 512, 1))\n",
    "x = layers.Conv3D(16, (3, 3, 3), activation='relu', padding='same')(input_img)\n",
    "x = layers.MaxPooling3D((1, 2, 2), padding='same')(x)\n",
    "x = layers.Conv3D(8, (3, 3, 3), activation='relu', padding='same')(x)\n",
    "encoded = layers.MaxPooling3D((1, 2, 2), padding='same')(x)\n",
    "\n",
    "x = layers.Conv3D(8, (3, 3, 3), activation='relu', padding='same')(encoded)\n",
    "x = layers.UpSampling3D((1, 2, 2))(x)  # Output: (25, 248, 256, 8)\n",
    "x = layers.Conv3D(16, (3, 3, 3), activation='relu', padding='same')(x)\n",
    "x = layers.UpSampling3D((1, 2, 2))(x)\n",
    "decoded = layers.Conv3D(1, (3, 3, 3), activation='sigmoid', padding='same')(x)"
   ],
   "id": "a06fa71402c4429f",
   "outputs": [],
   "execution_count": 18
  },
  {
   "metadata": {
    "ExecuteTime": {
     "end_time": "2024-10-21T20:40:25.196519Z",
     "start_time": "2024-10-21T20:40:25.175941Z"
    }
   },
   "cell_type": "code",
   "source": [
    "autoencoder = models.Model(input_img, decoded)\n",
    "autoencoder.summary()\n",
    "autoencoder.compile(optimizer='adam', loss='binary_crossentropy')"
   ],
   "id": "45e32447a0037721",
   "outputs": [],
   "execution_count": 19
  },
  {
   "metadata": {},
   "cell_type": "code",
   "outputs": [],
   "execution_count": null,
   "source": "dataset = tf.data.Dataset.from_tensor_slices((eyes, eyes)).batch(1).shuffle(buffer_size=71)",
   "id": "85fc6b1c12028b82"
  },
  {
   "metadata": {
    "ExecuteTime": {
     "end_time": "2024-10-21T20:42:37.376870800Z",
     "start_time": "2024-10-21T20:40:26.188756Z"
    }
   },
   "cell_type": "code",
   "source": "autoencoder.fit(dataset, epochs=20)",
   "id": "d0c0666164a1c39b",
   "outputs": [
    {
     "name": "stdout",
     "output_type": "stream",
     "text": [
      "Epoch 1/10\n",
      "1/9 [==>...........................] - ETA: 14:40 - loss: 0.6933"
     ]
    }
   ],
   "execution_count": null
  },
  {
   "metadata": {},
   "cell_type": "code",
   "outputs": [],
   "execution_count": null,
   "source": [
    "encoder = models.Model(inputs=autoencoder.input, outputs=autoencoder.get_layer(index=4).output)  # Use last encoded layer\n",
    "for layer in encoder.layers:\n",
    "    layer.trainable = False\n",
    "\n",
    "input_img = tf.keras.Input(shape=(25, 496, 512, 1))\n",
    "x = encoder(input_img)\n",
    "x = layers.Flatten()(x)\n",
    "x = layers.Dense(256, activation='relu')(x)\n",
    "x = layers.Dropout(0.5)(x)\n",
    "x = layers.Dense(1, activation='sigmoid')(x)"
   ],
   "id": "47a226834218f5d7"
  },
  {
   "metadata": {},
   "cell_type": "code",
   "outputs": [],
   "execution_count": null,
   "source": [
    "model = models.Model(input_img, x)\n",
    "model.compile(optimizer='adam', loss='binary_crossentropy', metrics=['accuracy'])"
   ],
   "id": "263da167729c9322"
  },
  {
   "metadata": {},
   "cell_type": "code",
   "outputs": [],
   "execution_count": null,
   "source": "model.fit(eyes, labels, epochs=10, batch_size=8, shuffle=True)",
   "id": "e617902c040fe146"
  }
 ],
 "metadata": {
  "kernelspec": {
   "display_name": "Python 3",
   "language": "python",
   "name": "python3"
  },
  "language_info": {
   "codemirror_mode": {
    "name": "ipython",
    "version": 2
   },
   "file_extension": ".py",
   "mimetype": "text/x-python",
   "name": "python",
   "nbconvert_exporter": "python",
   "pygments_lexer": "ipython2",
   "version": "2.7.6"
  }
 },
 "nbformat": 4,
 "nbformat_minor": 5
}
